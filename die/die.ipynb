{
 "cells": [
  {
   "cell_type": "code",
   "execution_count": 2,
   "id": "possible-connectivity",
   "metadata": {},
   "outputs": [],
   "source": [
    "import pandas as pd\n",
    "import swan_vis as swan\n",
    "import numpy as np\n",
    "import os\n",
    "import sys\n",
    "import seaborn as sns\n",
    "\n",
    "p = os.path.dirname(os.path.dirname(os.getcwd()))\n",
    "sys.path.append(p)"
   ]
  },
  {
   "cell_type": "code",
   "execution_count": 6,
   "id": "searching-practitioner",
   "metadata": {},
   "outputs": [],
   "source": [
    "# sg = swan.read('../swan/swan.p')\n",
    "df = pd.read_csv('../swan/metadata.txt', sep='\\t')"
   ]
  },
  {
   "cell_type": "code",
   "execution_count": 8,
   "id": "62aaedb5-a04f-40eb-b11d-bb34f730de1d",
   "metadata": {},
   "outputs": [
    {
     "data": {
      "text/html": [
       "<div>\n",
       "<style scoped>\n",
       "    .dataframe tbody tr th:only-of-type {\n",
       "        vertical-align: middle;\n",
       "    }\n",
       "\n",
       "    .dataframe tbody tr th {\n",
       "        vertical-align: top;\n",
       "    }\n",
       "\n",
       "    .dataframe thead th {\n",
       "        text-align: right;\n",
       "    }\n",
       "</style>\n",
       "<table border=\"1\" class=\"dataframe\">\n",
       "  <thead>\n",
       "    <tr style=\"text-align: right;\">\n",
       "      <th></th>\n",
       "      <th>cell_line</th>\n",
       "      <th>comparisons</th>\n",
       "    </tr>\n",
       "  </thead>\n",
       "  <tbody>\n",
       "    <tr>\n",
       "      <th>0</th>\n",
       "      <td>HL60</td>\n",
       "      <td>A</td>\n",
       "    </tr>\n",
       "    <tr>\n",
       "      <th>2</th>\n",
       "      <td>M0</td>\n",
       "      <td>B</td>\n",
       "    </tr>\n",
       "    <tr>\n",
       "      <th>4</th>\n",
       "      <td>M1.12</td>\n",
       "      <td>C</td>\n",
       "    </tr>\n",
       "    <tr>\n",
       "      <th>6</th>\n",
       "      <td>M1.24</td>\n",
       "      <td>D</td>\n",
       "    </tr>\n",
       "    <tr>\n",
       "      <th>8</th>\n",
       "      <td>M1.72</td>\n",
       "      <td>E</td>\n",
       "    </tr>\n",
       "    <tr>\n",
       "      <th>10</th>\n",
       "      <td>M2.12</td>\n",
       "      <td>F</td>\n",
       "    </tr>\n",
       "    <tr>\n",
       "      <th>12</th>\n",
       "      <td>M2.24</td>\n",
       "      <td>G</td>\n",
       "    </tr>\n",
       "    <tr>\n",
       "      <th>14</th>\n",
       "      <td>M2.72</td>\n",
       "      <td>H</td>\n",
       "    </tr>\n",
       "  </tbody>\n",
       "</table>\n",
       "</div>"
      ],
      "text/plain": [
       "   cell_line comparisons\n",
       "0       HL60           A\n",
       "2         M0           B\n",
       "4      M1.12           C\n",
       "6      M1.24           D\n",
       "8      M1.72           E\n",
       "10     M2.12           F\n",
       "12     M2.24           G\n",
       "14     M2.72           H"
      ]
     },
     "execution_count": 8,
     "metadata": {},
     "output_type": "execute_result"
    }
   ],
   "source": [
    "df[['cell_line', 'comparisons']].drop_duplicates()"
   ]
  },
  {
   "cell_type": "markdown",
   "id": "eligible-being",
   "metadata": {},
   "source": [
    "## Prep file to compare differentiation timepts"
   ]
  },
  {
   "cell_type": "code",
   "execution_count": 10,
   "id": "piano-oregon",
   "metadata": {},
   "outputs": [],
   "source": [
    "sg = '/dfs6/pub/public-www/kmcarval/swan_HL60/swan.p'\n",
    "d = '/dfs6/pub/public-www/kmcarval/swan_HL60/'\n",
    "col = 'cell_line'\n",
    "tests = ['iso']\n",
    "ofile = open('die_comparisons.tsv', 'w')\n",
    "tested = []\n",
    "comparisons = [('HL60', 'M0'), # AxB\n",
    "               ('M0', 'M1.12'), # BxC\n",
    "               ('M0', 'M1.24'), # BxD\n",
    "               ('M0', 'M2.12'), # BxF\n",
    "               ('M0', 'M2.24'), # BxG\n",
    "               ('M1.12', 'M2.12'), # CxF\n",
    "               ('M1.24', 'M2.24'), # DxG\n",
    "               ('M1.12', 'M1.24'), # CxD\n",
    "               ('M2.12', 'M2.24')] # FxG\n",
    "for c in comparisons:\n",
    "    c1 = c[0]\n",
    "    c2 = c[1]\n",
    "        \n",
    "    for test in tests:\n",
    "        fname = '{}_{}_{}_die.tsv'.format(c1, c2, test)\n",
    "        ofile.write('{}\\t{}\\t{}\\t{}\\t{}\\t{}{}\\n'.format(sg, col, c1, c2, test, d, fname))\n",
    "\n",
    "ofile.close()"
   ]
  },
  {
   "cell_type": "code",
   "execution_count": null,
   "id": "celtic-variation",
   "metadata": {},
   "outputs": [],
   "source": []
  }
 ],
 "metadata": {
  "kernelspec": {
   "display_name": "Python 3",
   "language": "python",
   "name": "python3"
  },
  "language_info": {
   "codemirror_mode": {
    "name": "ipython",
    "version": 3
   },
   "file_extension": ".py",
   "mimetype": "text/x-python",
   "name": "python",
   "nbconvert_exporter": "python",
   "pygments_lexer": "ipython3",
   "version": "3.7.4"
  }
 },
 "nbformat": 4,
 "nbformat_minor": 5
}
